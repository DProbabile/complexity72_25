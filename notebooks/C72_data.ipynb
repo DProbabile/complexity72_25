{
 "cells": [
  {
   "cell_type": "code",
   "execution_count": 14,
   "id": "d1ff1c90",
   "metadata": {},
   "outputs": [],
   "source": [
    "import json\n",
    "import os\n",
    "import sys\n",
    "import pandas as pd\n",
    "import numpy as np\n",
    "import matplotlib.pyplot as plt "
   ]
  },
  {
   "cell_type": "code",
   "execution_count": 4,
   "id": "e3a62e77",
   "metadata": {},
   "outputs": [
    {
     "data": {
      "text/plain": [
       "'/Users/Daniele/Documents/Github/complexity72_25/notebooks'"
      ]
     },
     "execution_count": 4,
     "metadata": {},
     "output_type": "execute_result"
    }
   ],
   "source": [
    "import os\n",
    "os.getcwd()"
   ]
  },
  {
   "cell_type": "markdown",
   "id": "160635a8",
   "metadata": {},
   "source": [
    "Influencers"
   ]
  },
  {
   "cell_type": "code",
   "execution_count": 6,
   "id": "ef5217c9",
   "metadata": {},
   "outputs": [
    {
     "name": "stdout",
     "output_type": "stream",
     "text": [
      "(561, 11)\n",
      "all columns: Index(['id', 'username', 'individual_or_org', 'category', 'num_of_rt',\n",
      "       'num_of_retweeters', 'V1', 'followers_count', 'following_count',\n",
      "       'tweet_count', 'listed_count'],\n",
      "      dtype='object')\n",
      "(1577, 6)\n",
      "all columns: Index(['username', 'id', 'individual_or_org', 'category', 'num_of_rt',\n",
      "       'num_of_retweeters'],\n",
      "      dtype='object')\n",
      "(1166, 8)\n",
      "all columns: Index(['id', 'username', 'individual_or_org', 'category', 'num_of_rt',\n",
      "       'num_original_tweets', 'followers_count', 'num_of_retweeters'],\n",
      "      dtype='object')\n",
      "shared columns: 6 {'id', 'individual_or_org', 'num_of_rt', 'category', 'num_of_retweeters', 'username'}\n"
     ]
    }
   ],
   "source": [
    "import json\n",
    "\n",
    "#not for now! \n",
    "#with open('preprocessed_dataset/speeches.json', 'r', encoding='utf-8') as f:\n",
    "#    data_sp = json.load(f)\n",
    "\n",
    "#print(data_sp[0])\n",
    "#print(data_sp[0].keys())\n",
    "#print(len(data_sp))\n",
    "\n",
    "#influencers_summary_cop26.csv, influencers_summary_covid, influencers_summary_ru_ukr\n",
    "\n",
    "with open('../data/raw/influencers_summary_cop26.csv', 'r', encoding='utf-8') as f:\n",
    "    data_influencers_cop26 = pd.read_csv(f)\n",
    "    print(data_influencers_cop26.shape)\n",
    "    print(\"all columns:\", data_influencers_cop26.columns)\n",
    "\n",
    "with open('../data/raw/influencers_summary_covid.csv', 'r', encoding='utf-8') as f:\n",
    "    data_influencers_covid = pd.read_csv(f)\n",
    "    print(data_influencers_covid.shape)\n",
    "    print(\"all columns:\", data_influencers_covid.columns)\n",
    "\n",
    "with open('../data/raw/influencers_summary_ru_ukr.csv', 'r', encoding='utf-8') as f:\n",
    "    data_influencers_ru_ukr = pd.read_csv(f)\n",
    "    print(data_influencers_ru_ukr.shape)\n",
    "    print(\"all columns:\", data_influencers_ru_ukr.columns)\n",
    "\n",
    "\n",
    "# SHARED COLUMNS ACROSS DATASETS!\n",
    "shared_columns = set(data_influencers_cop26.columns) & set(data_influencers_covid.columns) & set(data_influencers_ru_ukr.columns)\n",
    "print(\"shared columns:\", len(shared_columns), shared_columns)"
   ]
  },
  {
   "cell_type": "code",
   "execution_count": 7,
   "id": "3f7001e6",
   "metadata": {},
   "outputs": [
    {
     "name": "stdout",
     "output_type": "stream",
     "text": [
      "unique categories in cop26: ['Activist' 'Media' 'Other' 'Private Individual'\n",
      " 'International Organization / NGO' 'Politics']\n",
      "unique categories in covid: ['Private Individual' 'Media' 'Politics' 'Activist' 'Other'\n",
      " 'International Organization / NGO']\n",
      "unique categories in ru_ukr: ['Other' 'Private Individual' 'Politics' 'Media' 'Activist'\n",
      " 'International Organization / NGO']\n",
      "unique individual_or_org in cop26: ['Individual' 'Organization']\n",
      "unique individual_or_org in covid: ['Individual' 'Organization' nan]\n",
      "unique individual_or_org in ru_ukr: ['Individual' 'Organization' nan]\n"
     ]
    }
   ],
   "source": [
    "print(\"unique categories in cop26:\", data_influencers_cop26[\"category\"].unique())\n",
    "print(\"unique categories in covid:\", data_influencers_covid[\"category\"].unique())\n",
    "print(\"unique categories in ru_ukr:\", data_influencers_ru_ukr[\"category\"].unique())\n",
    "\n",
    "#unique su individuals in individual_or_org: \n",
    "print(\"unique individual_or_org in cop26:\", data_influencers_cop26[\"individual_or_org\"].unique())\n",
    "print(\"unique individual_or_org in covid:\", data_influencers_covid[\"individual_or_org\"].unique())\n",
    "print(\"unique individual_or_org in ru_ukr:\", data_influencers_ru_ukr[\"individual_or_org\"].unique())"
   ]
  },
  {
   "cell_type": "code",
   "execution_count": 8,
   "id": "3a32c3fe",
   "metadata": {},
   "outputs": [
    {
     "name": "stdout",
     "output_type": "stream",
     "text": [
      "Number of users in influencers_summary_cop26: 561\n",
      "Number of users in influencers_summary_covid: 1577\n",
      "Number of users in influencers_summary_ru_ukr: 1166\n",
      "Number of common users in all datasets: 40\n",
      "Number of common users in influencers_summary_cop26 and influencers_summary_covid: 89\n",
      "Number of common users in influencers_summary_cop26 and influencers_summary_ru_ukr: 64\n",
      "Number of common users in influencers_summary_covid and influencers_summary_ru_ukr: 172\n",
      "Number of ID users in influencers_summary_cop26: 561\n",
      "Number of ID users in influencers_summary_covid: 1577\n",
      "Number of ID users in influencers_summary_ru_ukr: 1166\n",
      "Number of common ID users in all datasets: 40\n",
      "Number of common users in influencers_summary_cop26 and influencers_summary_covid: 89\n",
      "Number of common users in influencers_summary_cop26 and influencers_summary_ru_ukr: 64\n",
      "Number of common users in influencers_summary_covid and influencers_summary_ru_ukr: 172\n",
      "Number of different ID users in all datasets: 3016\n"
     ]
    }
   ],
   "source": [
    "#Number of users in each dataset\n",
    "print(\"Number of users in influencers_summary_cop26:\", data_influencers_cop26['username'].nunique())\n",
    "print(\"Number of users in influencers_summary_covid:\", data_influencers_covid['username'].nunique())\n",
    "print(\"Number of users in influencers_summary_ru_ukr:\", data_influencers_ru_ukr['username'].nunique()) \n",
    "\n",
    "#in each dataset we have unique lists of users; \n",
    "set_common_users = set(data_influencers_cop26['username']).intersection(set(data_influencers_covid['username'])).intersection(set(data_influencers_ru_ukr['username']))\n",
    "print(\"Number of common users in all datasets:\", len(set_common_users))\n",
    "\n",
    "#Username level\n",
    "set_common_users_cop26_covid = set(data_influencers_cop26['username']).intersection(set(data_influencers_covid['username']))\n",
    "print(\"Number of common users in influencers_summary_cop26 and influencers_summary_covid:\", len(set_common_users_cop26_covid))\n",
    "set_common_users_cop26_ru_ukr = set(data_influencers_cop26['username']).intersection(set(data_influencers_ru_ukr['username']))\n",
    "print(\"Number of common users in influencers_summary_cop26 and influencers_summary_ru_ukr:\", len(set_common_users_cop26_ru_ukr))\n",
    "set_common_users_covid_ru_ukr = set(data_influencers_covid['username']).intersection(set(data_influencers_ru_ukr['username']))\n",
    "print(\"Number of common users in influencers_summary_covid and influencers_summary_ru_ukr:\", len(set_common_users_covid_ru_ukr))\n",
    "\n",
    "\n",
    "\n",
    "\n",
    "print(\"Number of ID users in influencers_summary_cop26:\", data_influencers_cop26['id'].nunique())\n",
    "print(\"Number of ID users in influencers_summary_covid:\", data_influencers_covid['id'].nunique())\n",
    "print(\"Number of ID users in influencers_summary_ru_ukr:\", data_influencers_ru_ukr['id'].nunique()) \n",
    "\n",
    "#ID level\n",
    "set_common_ID_users = set(data_influencers_cop26['id']).intersection(set(data_influencers_covid['id'])).intersection(set(data_influencers_ru_ukr['id']))\n",
    "print(\"Number of common ID users in all datasets:\", len(set_common_ID_users))\n",
    "set_common_id_cop26_covid = set(data_influencers_cop26['id']).intersection(set(data_influencers_covid['id']))\n",
    "print(\"Number of common users in influencers_summary_cop26 and influencers_summary_covid:\", len(set_common_users_cop26_covid))\n",
    "set_common_id_cop26_ru_ukr = set(data_influencers_cop26['id']).intersection(set(data_influencers_ru_ukr['id']))\n",
    "print(\"Number of common users in influencers_summary_cop26 and influencers_summary_ru_ukr:\", len(set_common_users_cop26_ru_ukr))\n",
    "set_common_id_covid_ru_ukr = set(data_influencers_covid['id']).intersection(set(data_influencers_ru_ukr['id']))\n",
    "print(\"Number of common users in influencers_summary_covid and influencers_summary_ru_ukr:\", len(set_common_users_covid_ru_ukr))\n",
    "\n",
    "#list of all different ID users \n",
    "set_all_unique_id_users = set(data_influencers_cop26['id']).union(set(data_influencers_covid['id'])).union(set(data_influencers_ru_ukr['id']))\n",
    "print(\"Number of different ID users in all datasets:\", len(set_all_unique_id_users))\n"
   ]
  },
  {
   "cell_type": "code",
   "execution_count": 9,
   "id": "cec499cb",
   "metadata": {},
   "outputs": [
    {
     "name": "stdout",
     "output_type": "stream",
     "text": [
      "{811972460560019456, 846037320667217921, 14173315, 380648579, 15012486, 8973062, 14569869, 34713362, 16973333, 25067168, 2097571, 18856867, 15484198, 87818409, 4898091, 788524, 4970411, 807095, 16935292, 21866939, 1652541, 6433472, 15438913, 1115874631, 20973388, 28785486, 2467791, 759251, 2170986966, 355989081, 621533, 5988062, 91478624, 14260960, 6134882, 51241574, 36327407, 612473, 157981564, 742143}\n",
      "Number of users with consistent individual_or_org and category across datasets: 36\n",
      "Number of users with inconsistent individual_or_org or category across datasets: 4\n",
      "Users with inconsistent individual_or_org or category: [18856867, 15484198, 16935292, 2170986966]\n",
      "User ID: 18856867\n",
      " Individual or Org: ['Organization'], Category: ['Media']\n",
      " Individual or Org: ['Organization'], Category: ['Media']\n",
      " Individual or Org: ['Individual'], Category: ['Other']\n",
      "User ID: 15484198\n",
      " Individual or Org: ['Individual'], Category: ['Private Individual']\n",
      " Individual or Org: ['Individual'], Category: ['Politics']\n",
      " Individual or Org: ['Individual'], Category: ['Politics']\n",
      "User ID: 16935292\n",
      " Individual or Org: ['Organization'], Category: ['Activist']\n",
      " Individual or Org: ['Organization'], Category: ['Media']\n",
      " Individual or Org: ['Organization'], Category: ['Media']\n",
      "User ID: 2170986966\n",
      " Individual or Org: ['Individual'], Category: ['Private Individual']\n",
      " Individual or Org: ['Individual'], Category: ['Private Individual']\n",
      " Individual or Org: ['Individual'], Category: ['Other']\n"
     ]
    }
   ],
   "source": [
    "#how many individual or organizations in set_all_unique_id_users: column \"individual_or_org\" can be Individual or Organization\n",
    "\n",
    "#for each user in set_common_ID_users, controllo Individual or Organization, Category: ['Activist' 'Media' 'Other' 'Private Individual', 'International Organization / NGO' 'Politics']\n",
    "\n",
    "users_individual_or_org_and_category = {}\n",
    "print(set_common_ID_users)\n",
    "\n",
    "#check se gli id in set_common_ID_users hanno gli stessi valori in individual_or_org e category su tutti i dataset\n",
    "#i valori sono o Individual o Organization per individual_or_org e \n",
    "id_mistmatch = []\n",
    "for user_id in set_common_ID_users:\n",
    "    individual_or_org_values = []\n",
    "    category_values = []\n",
    "    for df in [data_influencers_cop26, data_influencers_covid, data_influencers_ru_ukr]:\n",
    "        individual_or_org = df.loc[df['id'] == user_id, 'individual_or_org'].values\n",
    "        category = df.loc[df['id'] == user_id, 'category'].values\n",
    "        individual_or_org_values.extend(individual_or_org)\n",
    "        category_values.extend(category)\n",
    "    if len(set(individual_or_org_values)) == 1 and len(set(category_values)) == 1:\n",
    "        users_individual_or_org_and_category[user_id] = {\n",
    "            \"individual_or_org\": individual_or_org_values[0],\n",
    "            \"category\": category_values[0]\n",
    "        }\n",
    "    else:\n",
    "        id_mistmatch.append(user_id)\n",
    "        \n",
    "print(\"Number of users with consistent individual_or_org and category across datasets:\", len(users_individual_or_org_and_category))\n",
    "print(\"Number of users with inconsistent individual_or_org or category across datasets:\", len(id_mistmatch))\n",
    "print(\"Users with inconsistent individual_or_org or category:\", id_mistmatch)\n",
    "\n",
    "#printo questi utenti con individual_or_org e category nei vari dataset\n",
    "for user_id in id_mistmatch:\n",
    "    print(f\"User ID: {user_id}\")\n",
    "    for df in [data_influencers_cop26, data_influencers_covid, data_influencers_ru_ukr]:\n",
    "        individual_or_org = df.loc[df['id'] == user_id, 'individual_or_org'].values\n",
    "        category = df.loc[df['id'] == user_id, 'category'].values\n",
    "        print(f\" Individual or Org: {individual_or_org}, Category: {category}\")\n"
   ]
  },
  {
   "cell_type": "code",
   "execution_count": 11,
   "id": "9033d7a8",
   "metadata": {},
   "outputs": [
    {
     "name": "stdout",
     "output_type": "stream",
     "text": [
      "Number of users in influencers_summary_cop26 after removing mismatches: 557\n",
      "Number of users in influencers_summary_covid after removing mismatches: 1573\n",
      "Number of users in influencers_summary_ru_ukr after removing mismatches: 1162\n",
      "Number of common ID users in all datasets after removing mismatches: 36\n"
     ]
    }
   ],
   "source": [
    "#se ci sono questi utenti rimuovo dai dataframe data_influencers_cop26, data_influencers_covid, data_influencers_ru_ukr\n",
    "data_influencers_cop26 = data_influencers_cop26[~data_influencers_cop26['id'].isin(id_mistmatch)]\n",
    "print(\"Number of users in influencers_summary_cop26 after removing mismatches:\", data_influencers_cop26['id'].nunique())\n",
    "data_influencers_covid = data_influencers_covid[~data_influencers_covid['id'].isin(id_mistmatch)]\n",
    "print(\"Number of users in influencers_summary_covid after removing mismatches:\", data_influencers_covid['id'].nunique())\n",
    "data_influencers_ru_ukr = data_influencers_ru_ukr[~data_influencers_ru_ukr['id'].isin(id_mistmatch)]    \n",
    "print(\"Number of users in influencers_summary_ru_ukr after removing mismatches:\", data_influencers_ru_ukr['id'].nunique())\n",
    "\n",
    "set_common_ID_users = set(data_influencers_cop26['id']).intersection(set(data_influencers_covid['id'])).intersection(set(data_influencers_ru_ukr['id']))\n",
    "print(\"Number of common ID users in all datasets after removing mismatches:\", len(set_common_ID_users)) # OK "
   ]
  },
  {
   "cell_type": "code",
   "execution_count": 12,
   "id": "db628980",
   "metadata": {},
   "outputs": [
    {
     "name": "stderr",
     "output_type": "stream",
     "text": [
      "/var/folders/43/tx67zsg90pg77hblfmmfv_tm0000gn/T/ipykernel_3596/988932964.py:9: DeprecationWarning: The truth value of an empty array is ambiguous. Returning False, but in future this will result in an error. Use `array.size > 0` to check that an array is not empty.\n",
      "  if individual_or_org:\n"
     ]
    },
    {
     "name": "stdout",
     "output_type": "stream",
     "text": [
      "Number of individual users in all datasets: 1975\n",
      "Number of organization users in all datasets: 1002\n",
      "Number of users with NaN individual_or_org in all datasets: 35\n",
      "Sum of individual and organization users: 3012\n"
     ]
    }
   ],
   "source": [
    "#calcolo numero di utenti individuali e organizzazioni in set_all_unique_id_users\n",
    "individual_count = 0\n",
    "organization_count = 0\n",
    "nan_count = 0\n",
    "Diz_individual_or_org = {}\n",
    "for user_id in set_all_unique_id_users:  #cerco id in data_influencers_cop26, data_influencers_covid, data_influencers_ru_ukr, appena lo trovo stop\n",
    "    for df in [data_influencers_cop26, data_influencers_covid, data_influencers_ru_ukr]:\n",
    "        individual_or_org = df.loc[df['id'] == user_id, 'individual_or_org'].values\n",
    "        if individual_or_org:\n",
    "            Diz_individual_or_org[user_id] = individual_or_org[0]\n",
    "            if individual_or_org[0] == 'Individual':\n",
    "                individual_count += 1\n",
    "            elif individual_or_org[0] == 'Organization':\n",
    "                organization_count += 1\n",
    "            elif pd.isna(individual_or_org[0]):\n",
    "                nan_count += 1\n",
    "            break\n",
    "\n",
    "print(\"Number of individual users in all datasets:\", individual_count)\n",
    "print(\"Number of organization users in all datasets:\", organization_count)\n",
    "print(\"Number of users with NaN individual_or_org in all datasets:\", nan_count)\n",
    "print(\"Sum of individual and organization users:\", individual_count + organization_count + nan_count) # OK "
   ]
  },
  {
   "cell_type": "code",
   "execution_count": 13,
   "id": "3694b68f",
   "metadata": {},
   "outputs": [
    {
     "name": "stdout",
     "output_type": "stream",
     "text": [
      "Number of individual users in common datasets: 1\n",
      "Number of organization users in common datasets: 35\n",
      "Number of users with NaN individual_or_org in common datasets: 0\n"
     ]
    }
   ],
   "source": [
    "#per gli utenti in comumne, da Diz_individual_or_org calcolo il numero di utenti individuali e organizzazioni\n",
    "individual_count_common = 0\n",
    "organization_count_common = 0\n",
    "nan_count_common = 0\n",
    "for user_id in set_common_ID_users:\n",
    "    if user_id in Diz_individual_or_org:\n",
    "        if Diz_individual_or_org[user_id] == 'Individual':\n",
    "            individual_count_common += 1\n",
    "        elif Diz_individual_or_org[user_id] == 'Organization':\n",
    "            organization_count_common += 1\n",
    "        elif pd.isna(Diz_individual_or_org[user_id]):\n",
    "            nan_count_common += 1\n",
    "print(\"Number of individual users in common datasets:\", individual_count_common)\n",
    "print(\"Number of organization users in common datasets:\", organization_count_common)\n",
    "print(\"Number of users with NaN individual_or_org in common datasets:\", nan_count_common)"
   ]
  },
  {
   "cell_type": "code",
   "execution_count": 17,
   "id": "e5f6a275",
   "metadata": {},
   "outputs": [
    {
     "data": {
      "image/png": "[encoded data removed]",
      "text/plain": [
       "<Figure size 1000x600 with 1 Axes>"
      ]
     },
     "metadata": {},
     "output_type": "display_data"
    },
    {
     "data": {
      "image/png": "[encoded data removed]",
      "text/plain": [
       "<Figure size 1000x600 with 1 Axes>"
      ]
     },
     "metadata": {},
     "output_type": "display_data"
    },
    {
     "data": {
      "image/png": "[encoded data removed]",
      "text/plain": [
       "<Figure size 1000x600 with 1 Axes>"
      ]
     },
     "metadata": {},
     "output_type": "display_data"
    }
   ],
   "source": [
    "#calcolo distibuzione num_of_rt (numero dei rt), e num_of_retweeters (unique dei suoi retweet) \n",
    "#per ogni dataset plotto distribuzione di num_of_rt e num_of_retweeters\n",
    "\n",
    "def plot_distribution(df, column, title):\n",
    "    plt.figure(figsize=(10, 6))\n",
    "    df[column].hist(bins=50, color='cornflowerblue', alpha=0.7)\n",
    "    plt.title(title)\n",
    "    plt.xlabel(column)\n",
    "    plt.ylabel('Frequency')\n",
    "    plt.yscale('log')  # Use logarithmic scale for better visibility of distribution\n",
    "    #plt.grid(axis='y', alpha=0.75)\n",
    "    plt.show()\n",
    "\n",
    "plot_distribution(data_influencers_cop26, 'num_of_rt', 'Distribution of num_of_rt in influencers_summary_cop26')\n",
    "plot_distribution(data_influencers_covid, 'num_of_rt', 'Distribution of num_of_rt in influencers_summary_covid')\n",
    "plot_distribution(data_influencers_ru_ukr, 'num_of_rt', 'Distribution of num_of_rt in influencers_summary_ru_ukr')"
   ]
  },
  {
   "cell_type": "markdown",
   "id": "65a4e224",
   "metadata": {},
   "source": [
    "Tweets"
   ]
  },
  {
   "cell_type": "code",
   "execution_count": null,
   "id": "9b14972b",
   "metadata": {},
   "outputs": [],
   "source": []
  },
  {
   "cell_type": "code",
   "execution_count": null,
   "id": "ad142187",
   "metadata": {},
   "outputs": [],
   "source": []
  },
  {
   "cell_type": "code",
   "execution_count": null,
   "id": "0c3648fa",
   "metadata": {},
   "outputs": [],
   "source": []
  }
 ],
 "metadata": {
  "kernelspec": {
   "display_name": "base",
   "language": "python",
   "name": "python3"
  },
  "language_info": {
   "codemirror_mode": {
    "name": "ipython",
    "version": 3
   },
   "file_extension": ".py",
   "mimetype": "text/x-python",
   "name": "python",
   "nbconvert_exporter": "python",
   "pygments_lexer": "ipython3",
   "version": "3.9.13"
  }
 },
 "nbformat": 4,
 "nbformat_minor": 5
}
